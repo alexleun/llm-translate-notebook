{
 "cells": [
  {
   "cell_type": "code",
   "execution_count": null,
   "id": "d2459b46-5ee9-4ab5-84e4-cf9329d06b1f",
   "metadata": {},
   "outputs": [],
   "source": [
    "# epub file, using ChatGLM (GPU) + trans-opus-mt-en-zh (CPU)\n",
    "# trans-opus-mt-en-zh is use for translate short content"
   ]
  },
  {
   "cell_type": "code",
   "execution_count": 1,
   "id": "fde7115b-3338-43bd-a958-aa6463477609",
   "metadata": {
    "editable": true,
    "slideshow": {
     "slide_type": ""
    },
    "tags": []
   },
   "outputs": [],
   "source": [
    "from langchain.document_loaders import UnstructuredEPubLoader\n",
    "loader = UnstructuredEPubLoader(\"Your_file_here.epub\", mode=\"elements\", strategy=\"fast\")\n",
    "data = loader.load()"
   ]
  },
  {
   "cell_type": "code",
   "execution_count": null,
   "id": "d8e17445-58fe-4d02-92d0-51f6c3525656",
   "metadata": {},
   "outputs": [],
   "source": [
    "# Load translate module\n",
    "from transformers import AutoModelWithLMHead,AutoTokenizer,pipeline\n",
    "mode_name = 'liam168/trans-opus-mt-en-zh'\n",
    "model = AutoModelWithLMHead.from_pretrained(mode_name)\n",
    "tokenizer = AutoTokenizer.from_pretrained(mode_name)\n",
    "translation = pipeline(\"translation_en_to_zh\", model=model, tokenizer=tokenizer, device=\"cpu\")"
   ]
  },
  {
   "cell_type": "code",
   "execution_count": null,
   "id": "b1cb7e64-49ab-4467-b246-e8f0e77b9099",
   "metadata": {
    "editable": true,
    "slideshow": {
     "slide_type": ""
    },
    "tags": []
   },
   "outputs": [],
   "source": [
    "from transformers import AutoTokenizer, AutoModel\n",
    "tokenizer = AutoTokenizer.from_pretrained(\"THUDM/chatglm2-6b\", trust_remote_code=True)\n",
    "model = AutoModel.from_pretrained(\"THUDM/chatglm2-6b\", trust_remote_code=True).half().cuda()\n",
    "model = model.eval()"
   ]
  },
  {
   "cell_type": "code",
   "execution_count": 7,
   "id": "3a51b736-2ea5-4998-94eb-60525af47289",
   "metadata": {
    "editable": true,
    "slideshow": {
     "slide_type": ""
    },
    "tags": []
   },
   "outputs": [],
   "source": [
    "from langchain.prompts import PromptTemplate\n",
    "template = \"\"\"\n",
    "翻译成中文:\\n\n",
    "{question}\n",
    "\"\"\"\n",
    "prompt = PromptTemplate(template=template, input_variables=[\"question\"])"
   ]
  },
  {
   "cell_type": "code",
   "execution_count": null,
   "id": "281a1e38-f37c-4596-9f08-22ed57b51e01",
   "metadata": {
    "editable": true,
    "slideshow": {
     "slide_type": ""
    },
    "tags": []
   },
   "outputs": [],
   "source": [
    "from ipywidgets import IntProgress\n",
    "from IPython.display import display\n",
    "p2 = IntProgress(max=len(data))\n",
    "p2.description = 'Running'\n",
    "display(p2)\n",
    "b=''\n",
    "x=-1\n",
    "# translated to 102\n",
    "with open(r'Your_tranlsated_file_here.txt', 'a', encoding='UTF-8') as fp:\n",
    "    for i in data:\n",
    "        x+=1\n",
    "        p2.value+=1\n",
    "        # Use debug mode to monitor \"x\" if you what to continue translation next time.\n",
    "        # Replace '0' to pervious last status value. \n",
    "        if x > 0:\n",
    "            max_len=len(i.dict()['page_content'])\n",
    "            res = i.dict()['page_content']\n",
    "            if max_len > 9:\n",
    "                if max_len < 463:\n",
    "                    temp=translation(i.dict()['page_content'], max_length=max_len)\n",
    "                    res= temp[0]['translation_text']\n",
    "                else:\n",
    "                    res, history = model.chat(tokenizer, prompt.format(question=i.dict()['page_content']), history=[])\n",
    "            b= b + res + '\\n'\n",
    "            fp.write('\\n'+ res)\n",
    "            fp.flush()\n",
    "    fp.close()"
   ]
  }
 ],
 "metadata": {
  "kernelspec": {
   "display_name": "Python 3 (ipykernel)",
   "language": "python",
   "name": "python3"
  },
  "language_info": {
   "codemirror_mode": {
    "name": "ipython",
    "version": 3
   },
   "file_extension": ".py",
   "mimetype": "text/x-python",
   "name": "python",
   "nbconvert_exporter": "python",
   "pygments_lexer": "ipython3",
   "version": "3.10.10"
  }
 },
 "nbformat": 4,
 "nbformat_minor": 5
}
