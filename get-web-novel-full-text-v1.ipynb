{
 "cells": [
  {
   "cell_type": "code",
   "execution_count": 92,
   "id": "59608611-6f1f-4e02-93ac-7923987c5b91",
   "metadata": {},
   "outputs": [
    {
     "name": "stdout",
     "output_type": "stream",
     "text": [
      "https://ncode.syosetu.com/n3431ik/1/\n",
      "https://ncode.syosetu.com/n3431ik/2/\n",
      "https://ncode.syosetu.com/n3431ik/3/\n",
      "https://ncode.syosetu.com/n3431ik/4/\n",
      "https://ncode.syosetu.com/n3431ik/5/\n",
      "https://ncode.syosetu.com/n3431ik/6/\n",
      "https://ncode.syosetu.com/n3431ik/7/\n",
      "https://ncode.syosetu.com/n3431ik/8/\n",
      "https://ncode.syosetu.com/n3431ik/9/\n",
      "https://ncode.syosetu.com/n3431ik/10/\n",
      "https://ncode.syosetu.com/n3431ik/11/\n",
      "https://ncode.syosetu.com/n3431ik/12/\n",
      "https://ncode.syosetu.com/n3431ik/13/\n",
      "https://ncode.syosetu.com/n3431ik/14/\n",
      "https://ncode.syosetu.com/n3431ik/15/\n",
      "https://ncode.syosetu.com/n3431ik/16/\n",
      "https://ncode.syosetu.com/n3431ik/17/\n",
      "https://ncode.syosetu.com/n3431ik/18/\n",
      "https://ncode.syosetu.com/n3431ik/19/\n",
      "https://ncode.syosetu.com/n3431ik/20/\n",
      "https://ncode.syosetu.com/n3431ik/21/\n",
      "https://ncode.syosetu.com/n3431ik/22/\n",
      "https://ncode.syosetu.com/n3431ik/23/\n",
      "https://ncode.syosetu.com/n3431ik/24/\n",
      "https://ncode.syosetu.com/n3431ik/25/\n"
     ]
    }
   ],
   "source": [
    "# Get the web contain in Japan novel, work with ncode.syosetu.com\n",
    "import requests\n",
    "from bs4 import BeautifulSoup\n",
    "\n",
    "def find_between(s, start, end):\n",
    "    return s.split(start)[1].split(end)[0]\n",
    "\n",
    "# Get subtitle and url from source_url\n",
    "novel_num = \"n3431ik\"\n",
    "base_url = \"https://ncode.syosetu.com/\"\n",
    "headers = {'User-Agent': 'Mozilla/5.0 (Macintosh; Intel Mac OS X 10_11_5) AppleWebKit/537.36 (KHTML, like Gecko) Chrome/50.0.2661.102 Safari/537.36'}\n",
    "response = requests.get(base_url+novel_num+'/', headers=headers)\n",
    "soup = BeautifulSoup(response.content, \"html.parser\")\n",
    "novel_title = find_between(str(soup.find(class_=\"novel_title\")), \">\", \"<\")\n",
    "index_box = soup.find(class_=\"index_box\")\n",
    "urls = index_box.find_all(class_=\"subtitle\")\n",
    "sublist = []\n",
    "for url in urls:\n",
    "    ut = find_between(str(url),'/\">','</a>')\n",
    "    ul = base_url+find_between(str(url),'href=\"/','\">')\n",
    "    sublist.append([ut, ul])\n",
    "\n",
    "txt=novel_title+'\\n'\n",
    "e = 0\n",
    "for subl in sublist:\n",
    "    print(subl[1])\n",
    "    e += 1\n",
    "    txt=txt+'Chapter '+str(e)+': '+subl[0]+'\\n'\n",
    "    response = requests.get(subl[1], headers=headers)\n",
    "    soup = BeautifulSoup(response.content, \"html.parser\")\n",
    "    a = soup.find_all(class_=\"novel_view\")\n",
    "    for b in a:\n",
    "        c=b.get_text(separator = '</p>').replace('</p>','')\n",
    "    txt=txt+c+'\\n'\n",
    "\n",
    "# write to text file.\n",
    "text_file = open(novel_num+\".txt\", \"w\", encoding='UTF-8')\n",
    "if text_file.write(txt) != len(txt):\n",
    "    print(\"Failure! String not written to text file.\")\n",
    "text_file.close()"
   ]
  },
  {
   "cell_type": "code",
   "execution_count": null,
   "id": "d9cf6033-1cfd-44cd-bc8e-aebccadf24b0",
   "metadata": {},
   "outputs": [],
   "source": []
  }
 ],
 "metadata": {
  "kernelspec": {
   "display_name": "Python 3 (ipykernel)",
   "language": "python",
   "name": "python3"
  },
  "language_info": {
   "codemirror_mode": {
    "name": "ipython",
    "version": 3
   },
   "file_extension": ".py",
   "mimetype": "text/x-python",
   "name": "python",
   "nbconvert_exporter": "python",
   "pygments_lexer": "ipython3",
   "version": "3.10.10"
  }
 },
 "nbformat": 4,
 "nbformat_minor": 5
}
