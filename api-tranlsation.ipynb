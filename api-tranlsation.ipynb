{
 "cells": [
  {
   "cell_type": "code",
   "execution_count": null,
   "id": "27e58598-1079-486f-a5ab-d3925296d378",
   "metadata": {
    "jupyter": {
     "source_hidden": true
    }
   },
   "outputs": [],
   "source": [
    "!pip install langchain\n",
    "!pip install spacy\n",
    "!python -m spacy download en_core_web_sm\n",
    "!pip install sentence-transformers"
   ]
  },
  {
   "cell_type": "code",
   "execution_count": 1,
   "id": "37937163-625d-477f-813b-c8864bdcdd4e",
   "metadata": {},
   "outputs": [],
   "source": [
    "import requests\n",
    "url = \"http://127.0.0.1:5000/v1/chat/completions\"\n",
    "# url = \"http://127.0.0.1:5000/v1/completions\"\n",
    "headers = {\n",
    "    \"Content-Type\": \"application/json\"\n",
    "}\n",
    "history = []"
   ]
  },
  {
   "cell_type": "code",
   "execution_count": 2,
   "id": "5b231833-eec8-4f84-9310-162692456c34",
   "metadata": {},
   "outputs": [],
   "source": [
    "import io\n",
    "f = io.open(\"n4764du-p1.txt\", mode=\"r\", encoding=\"utf-8\")\n",
    "s = f.read()"
   ]
  },
  {
   "cell_type": "code",
   "execution_count": null,
   "id": "d5d43d48-42c6-4aea-8281-021cd119a061",
   "metadata": {},
   "outputs": [],
   "source": [
    "lines = f.readlines(20)"
   ]
  },
  {
   "cell_type": "code",
   "execution_count": null,
   "id": "c723016b-4ef3-4f6b-82e0-bc67b0f0eac7",
   "metadata": {},
   "outputs": [],
   "source": [
    "lines"
   ]
  },
  {
   "cell_type": "code",
   "execution_count": null,
   "id": "39fe52dd-56c3-48e7-9c24-e31a6b8d0012",
   "metadata": {},
   "outputs": [],
   "source": [
    "from langchain.text_splitter import SpacyTextSplitter\n",
    "#from langchain.text_splitter import SentenceTransformersTokenTextSplitter\n",
    "\n",
    "text_splitter = SpacyTextSplitter(chunk_size=30, chunk_overlap=0)\n",
    "# text_splitter = SentenceTransformersTokenTextSplitter(chunk_overlap=0)\n",
    "\n",
    "texts = text_splitter.split_text(s)"
   ]
  },
  {
   "cell_type": "code",
   "execution_count": 4,
   "id": "8784646e-1987-4b35-871b-272dfd930eba",
   "metadata": {},
   "outputs": [],
   "source": [
    "from langchain.text_splitter import CharacterTextSplitter\n",
    "text_splitter = CharacterTextSplitter(\n",
    "    separator = \"\\n\",\n",
    "    chunk_size = 100,\n",
    "    chunk_overlap  = 0,\n",
    "    length_function = len,\n",
    "    is_separator_regex = False,\n",
    ")"
   ]
  },
  {
   "cell_type": "code",
   "execution_count": null,
   "id": "1f0e8730-7fd1-4e3c-a0dd-52d0bf2a1ccb",
   "metadata": {
    "editable": true,
    "slideshow": {
     "slide_type": ""
    },
    "tags": []
   },
   "outputs": [],
   "source": [
    "texts = text_splitter.split_text(s)\n"
   ]
  },
  {
   "cell_type": "code",
   "execution_count": 6,
   "id": "f0b3579a-730e-422a-9a2d-5a5d46e39224",
   "metadata": {},
   "outputs": [
    {
     "data": {
      "text/plain": [
       "83"
      ]
     },
     "execution_count": 6,
     "metadata": {},
     "output_type": "execute_result"
    }
   ],
   "source": [
    "len(texts[0])"
   ]
  },
  {
   "cell_type": "code",
   "execution_count": 7,
   "id": "4d637227-4fb8-41b9-9c75-a784d2750451",
   "metadata": {},
   "outputs": [
    {
     "data": {
      "text/plain": [
       "'生き残り錬金術師は街で静かに暮らしたい\\n第一章２００年後の帰還\\nChapter 1: 目覚め\\n初投稿です。よろしくお願いします。\\nドクン\\n止まっていた心臓が動き出す。'"
      ]
     },
     "execution_count": 7,
     "metadata": {},
     "output_type": "execute_result"
    }
   ],
   "source": [
    "texts[0]"
   ]
  },
  {
   "cell_type": "code",
   "execution_count": null,
   "id": "4ad4bb61-e2ff-43ca-bb7f-8e2e3b003346",
   "metadata": {},
   "outputs": [],
   "source": [
    "# Below chat sample\n",
    "\n",
    "# while True:\n",
    "#     user_message = input(\"> \")\n",
    "#     history.append({\"role\": \"user\", \"content\": user_message})\n",
    "#     data = {\n",
    "#         \"mode\": \"chat\",\n",
    "#         \"character\": \"Example\",\n",
    "#         \"messages\": history\n",
    "#     }\n",
    "\n",
    "#     response = requests.post(url, headers=headers, json=data, verify=False)\n",
    "#     assistant_message = response.json()['choices'][0]['message']['content']\n",
    "#     history.append({\"role\": \"assistant\", \"content\": assistant_message})\n",
    "#     print(assistant_message)"
   ]
  },
  {
   "cell_type": "code",
   "execution_count": null,
   "id": "e6cd911c-e383-4204-9dc6-411c9a3feb2c",
   "metadata": {},
   "outputs": [],
   "source": [
    "# messages = [\n",
    "#     {\"role\": \"user\", \"content\": \"What is your favourite condiment?\"},\n",
    "#     {\"role\": \"assistant\", \"content\": \"Well, I'm quite partial to a good squeeze of fresh lemon juice. It adds just the right amount of zesty flavour to whatever I'm cooking up in the kitchen!\"},\n",
    "#     {\"role\": \"user\", \"content\": \"Do you have mayonnaise recipes?\"}\n",
    "# ]"
   ]
  },
  {
   "cell_type": "code",
   "execution_count": 8,
   "id": "8c5c1a64-332a-4978-ad87-05ce0f9846d3",
   "metadata": {},
   "outputs": [],
   "source": [
    "from langchain.prompts import PromptTemplate"
   ]
  },
  {
   "cell_type": "code",
   "execution_count": 47,
   "id": "4902e8e3-3325-4c54-aa37-c0c02227da7b",
   "metadata": {},
   "outputs": [],
   "source": [
    "\n",
    "template = \"\"\"\n",
    "### Instruction:\n",
    "Your a rola as translation machince.\n",
    "\n",
    "### Instruction:\n",
    "Translate Japanese to Traditional Chinese\n",
    "\n",
    "### Input:\n",
    "{question}\n",
    "\n",
    "### Response:\n",
    "繁體中文：\n",
    "\"\"\"\n",
    "prompt = PromptTemplate(template=template, input_variables=[\"question\"])"
   ]
  },
  {
   "cell_type": "code",
   "execution_count": null,
   "id": "0e21cd19-a661-40b0-a446-1669f42af2d0",
   "metadata": {},
   "outputs": [],
   "source": [
    "data = {\n",
    "    \"messages\": [\n",
    "      {\n",
    "        \"role\": \"user\",\n",
    "        \"content\": prompt.format(question=texts[0])\n",
    "      }\n",
    "    ],\n",
    "    \"mode\": \"instruct\", #instruct\n",
    "    \"instruction_template\": \"Alpaca\",\n",
    "    \"temperature\": 0.3,\n",
    "    \"top_p\": 0.7,\n",
    "    \"stream\": False,\n",
    "    \"max_new_tokens\": 4096,\n",
    "    \"do_sample\": True,\n",
    "    \"typical_p\": 1,\n",
    "    \"repetition_penalty\": 1.1,\n",
    "    \"encoder_repetition_penalty\": 1.0,\n",
    "    \"top_k\": 0,\n",
    "    \"min_length\": 0,\n",
    "    \"no_repeat_ngram_size\": 0,\n",
    "    \"num_beams\": 1,\n",
    "    \"penalty_alpha\": 0,\n",
    "    \"length_penalty\": 1,\n",
    "    \"early_stopping\": False,\n",
    "    \"seed\": -1,\n",
    "    \"add_bos_token\": True,\n",
    "    \"custom_stopping_strings\": [],\n",
    "    \"truncation_length\": 4096,\n",
    "    \"ban_eos_token\": False\n",
    "    \n",
    "  }"
   ]
  },
  {
   "cell_type": "code",
   "execution_count": 60,
   "id": "79d23ba7-adae-40ad-8709-489978db41b6",
   "metadata": {},
   "outputs": [],
   "source": [
    "data = {\n",
    "    \"messages\": [\n",
    "      {\n",
    "        \"role\": \"user\",\n",
    "        \"content\": prompt.format(question=texts[7])\n",
    "      }\n",
    "    ],\n",
    "    \"mode\": \"instruct\", #instruct\n",
    "    \"instruction_template\": \"Alpaca\",\n",
    "    \"temperature\": 0.3,\n",
    "    \"top_p\": 0.7,\n",
    "    # \"stream\": False,\n",
    "    # \"max_new_tokens\": 4096,\n",
    "    # \"do_sample\": True,\n",
    "    # \"typical_p\": 1,\n",
    "    # \"repetition_penalty\": 1.1,\n",
    "    # \"encoder_repetition_penalty\": 1.0,\n",
    "    # \"top_k\": 0,\n",
    "    # \"min_length\": 0,\n",
    "    # \"no_repeat_ngram_size\": 0,\n",
    "    # \"num_beams\": 1,\n",
    "    # \"penalty_alpha\": 0,\n",
    "    # \"length_penalty\": 1,\n",
    "    # \"early_stopping\": False,\n",
    "    # \"seed\": -1,\n",
    "    # \"add_bos_token\": True,\n",
    "    # \"custom_stopping_strings\": [],\n",
    "    # \"truncation_length\": 4096,\n",
    "    # \"ban_eos_token\": False\n",
    "}"
   ]
  },
  {
   "cell_type": "code",
   "execution_count": 61,
   "id": "e3849962-092a-431a-9a98-b7549452ff0a",
   "metadata": {},
   "outputs": [],
   "source": [
    "# data"
   ]
  },
  {
   "cell_type": "code",
   "execution_count": 62,
   "id": "d70f5f88-91cd-485e-88bc-687b97b304b0",
   "metadata": {},
   "outputs": [],
   "source": [
    "url = \"http://127.0.0.1:5000/v1/chat/completions\""
   ]
  },
  {
   "cell_type": "code",
   "execution_count": 63,
   "id": "813473f4-9878-46d6-9654-e276cebc58ca",
   "metadata": {},
   "outputs": [],
   "source": [
    "response = requests.post(url, headers=headers, json=data, verify=False)"
   ]
  },
  {
   "cell_type": "code",
   "execution_count": 64,
   "id": "0c5af054-9843-46f4-81b1-186ec07465c1",
   "metadata": {},
   "outputs": [
    {
     "data": {
      "text/plain": [
       "{'id': 'chatcmpl-1707643700986663936',\n",
       " 'object': 'chat.completions',\n",
       " 'created': 1707643700,\n",
       " 'model': 'Smaug-72B-v0.1-q5_k_s.gguf',\n",
       " 'choices': [{'index': 0,\n",
       "   'finish_reason': 'stop',\n",
       "   'message': {'role': 'assistant',\n",
       "    'content': '手掌心上，白光閃爍。水滿溢而出。手指間的縫隙。水滴落下。手腕傳遞。肘部流動。但不濕衣服。大氣中分解。消失。這是生命之水。這片土地的地脈。汲取。大地的恩惠。'}}],\n",
       " 'usage': {'prompt_tokens': 140, 'completion_tokens': 66, 'total_tokens': 206}}"
      ]
     },
     "execution_count": 64,
     "metadata": {},
     "output_type": "execute_result"
    }
   ],
   "source": [
    "response.json()"
   ]
  },
  {
   "cell_type": "code",
   "execution_count": 65,
   "id": "211ecdf1-cae5-4a12-b553-ec226e5e7ce3",
   "metadata": {},
   "outputs": [
    {
     "name": "stdout",
     "output_type": "stream",
     "text": [
      "手掌心上，白光閃爍。水滿溢而出。手指間的縫隙。水滴落下。手腕傳遞。肘部流動。但不濕衣服。大氣中分解。消失。這是生命之水。這片土地的地脈。汲取。大地的恩惠。\n"
     ]
    }
   ],
   "source": [
    "print(response.json()['choices'][0]['message']['content'])"
   ]
  },
  {
   "cell_type": "code",
   "execution_count": null,
   "id": "39db10b5-1a7b-4084-928d-25b371509530",
   "metadata": {},
   "outputs": [],
   "source": [
    "# print(response.json()['choices'][0]['text'])"
   ]
  },
  {
   "cell_type": "code",
   "execution_count": 67,
   "id": "ebb8941e-c30b-4d1f-868e-e596ebae6ef1",
   "metadata": {},
   "outputs": [],
   "source": [
    "from ipywidgets import IntProgress\n",
    "from IPython.display import display"
   ]
  },
  {
   "cell_type": "code",
   "execution_count": 66,
   "id": "80521073-74dd-4a74-9ab8-080107eb87ed",
   "metadata": {},
   "outputs": [
    {
     "data": {
      "text/plain": [
       "6507"
      ]
     },
     "execution_count": 66,
     "metadata": {},
     "output_type": "execute_result"
    }
   ],
   "source": [
    "len(texts)"
   ]
  },
  {
   "cell_type": "code",
   "execution_count": null,
   "id": "c303d868-11d4-49c6-a4c4-87e32790fe20",
   "metadata": {
    "scrolled": true
   },
   "outputs": [
    {
     "data": {
      "application/vnd.jupyter.widget-view+json": {
       "model_id": "2516093901cd4417aae3e6adf1c04cba",
       "version_major": 2,
       "version_minor": 0
      },
      "text/plain": [
       "IntProgress(value=0, description='Running', max=6507)"
      ]
     },
     "metadata": {},
     "output_type": "display_data"
    }
   ],
   "source": [
    "result=[]\n",
    "p2 = IntProgress(max=len(texts))\n",
    "p2.description = 'Running'\n",
    "display(p2)\n",
    "x = 0\n",
    "\n",
    "with open(r'n4764du-p1-cn.txt', 'a', encoding='UTF-8') as fp:\n",
    "    for i in texts:\n",
    "        p2.value += 1\n",
    "        x += 1\n",
    "        if x > 0 and len(i) > 5:\n",
    "            data = {\n",
    "                    \"messages\": [\n",
    "                          {\n",
    "                            \"role\": \"user\",\n",
    "                            \"content\": prompt.format(question=i)\n",
    "                          }\n",
    "                                ],\n",
    "                    \"mode\": \"instruct\", #instruct\n",
    "                    \"instruction_template\": \"Alpaca\",\n",
    "                    \"temperature\": 0.3,\n",
    "                    \"top_p\": 0.7,\n",
    "                    }\n",
    "            response = requests.post(url, headers=headers, json=data, verify=False)\n",
    "            rs = response.json()['choices'][0]['message']['content']\n",
    "            fp.write('\\n'+ rs)\n",
    "            fp.flush()\n",
    "    fp.close()"
   ]
  },
  {
   "cell_type": "code",
   "execution_count": null,
   "id": "585ee41c-e1e2-4085-b9e1-93464bb1fc62",
   "metadata": {},
   "outputs": [],
   "source": []
  }
 ],
 "metadata": {
  "kernelspec": {
   "display_name": "Python 3 (ipykernel)",
   "language": "python",
   "name": "python3"
  },
  "language_info": {
   "codemirror_mode": {
    "name": "ipython",
    "version": 3
   },
   "file_extension": ".py",
   "mimetype": "text/x-python",
   "name": "python",
   "nbconvert_exporter": "python",
   "pygments_lexer": "ipython3",
   "version": "3.11.6"
  }
 },
 "nbformat": 4,
 "nbformat_minor": 5
}
